{
 "cells": [
  {
   "cell_type": "markdown",
   "metadata": {
    "colab_type": "text",
    "id": "QoctFGvzXoPV"
   },
   "source": [
    "**Import Libraries**"
   ]
  },
  {
   "cell_type": "code",
   "execution_count": null,
   "metadata": {
    "colab": {},
    "colab_type": "code",
    "id": "k6Su2JiKL_1n"
   },
   "outputs": [],
   "source": [
    "#Installing the required packages\n",
    "!pip install librosa\n",
    "!pip install keras\n",
    "!pip install tensorflow\n",
    "!pip install ffmpeg"
   ]
  },
  {
   "cell_type": "code",
   "execution_count": 42,
   "metadata": {
    "colab": {},
    "colab_type": "code",
    "id": "L_MgrspRjV7m"
   },
   "outputs": [],
   "source": [
    "#Importing the required libraries\n",
    "import os\n",
    "import glob\n",
    "import librosa\n",
    "import librosa.display\n",
    "import numpy as np\n",
    "import pandas as pd\n",
    "import matplotlib.pyplot as plt\n",
    "from scipy.io import wavfile\n",
    "from scipy import fftpack\n",
    "from scipy.stats import kurtosis,skew,mode\n",
    "import sklearn.preprocessing,sklearn.decomposition\n",
    "from sklearn.metrics import accuracy_score,confusion_matrix\n",
    "from sklearn.utils import shuffle\n",
    "from sklearn.neural_network import MLPClassifier\n",
    "from sklearn.ensemble import RandomForestClassifier\n",
    "from sklearn import svm\n",
    "from sklearn.naive_bayes import MultinomialNB,GaussianNB\n",
    "from sklearn.preprocessing import StandardScaler\n",
    "from sklearn.model_selection import StratifiedShuffleSplit,StratifiedKFold,train_test_split\n",
    "from keras import utils\n",
    "import keras\n",
    "from keras import layers\n",
    "from keras.layers import Activation, Dense, Dropout, Conv1D, Conv2D, Flatten,Reshape, BatchNormalization, ZeroPadding2D,MaxPooling1D,AveragePooling1D, MaxPooling2D, GlobalMaxPooling2D, GlobalAveragePooling1D, AveragePooling2D, Input, Add\n",
    "from keras.models import Sequential\n",
    "from keras import regularizers,optimizers\n",
    "from tensorflow.keras.optimizers import SGD,Adam\n",
    "from tensorflow.keras.utils import to_categorical\n",
    "import keras.backend as K\n",
    "from keras.models import load_model\n",
    "from keras.callbacks import EarlyStopping\n",
    "import warnings\n",
    "warnings.filterwarnings(\"ignore\")"
   ]
  },
  {
   "cell_type": "markdown",
   "metadata": {
    "colab_type": "text",
    "id": "lL6voiWiYEb4"
   },
   "source": [
    "**Extract Training Dataset**"
   ]
  },
  {
   "cell_type": "code",
   "execution_count": 43,
   "metadata": {
    "colab": {},
    "colab_type": "code",
    "id": "-8gjbD0TEL03"
   },
   "outputs": [],
   "source": [
    "#Function to extract the training data\n",
    "def get_training(original_path):\n",
    "    \n",
    "    # Load the training data csv file into a dataframe. \n",
    "    df = pd.read_csv(os.path.join(original_path,'train.csv'))\n",
    "\n",
    "    # Creating folder to store the Numpy arrays if they don't exist.\n",
    "    if not os.path.exists(os.path.join(original_path,'train_extracted')):\n",
    "        os.makedirs(os.path.join(original_path,'train_extracted'))\n",
    "\n",
    "    # Getting the file names of audios from the dataframe.\n",
    "    audio_files = np.array(df['new_id'])\n",
    "\n",
    "    # Load each audio file, save it as a numpy array\n",
    "    for i in range(len(audio_files)):    \n",
    "        d,r = librosa.load(os.path.join(original_path,'train',str(audio_files[i]).zfill(8)+\".mp3\"),mono=True)\n",
    "        np.save(os.path.join(original_path, 'train_extracted',str(audio_files[i])+'.npy'),d)"
   ]
  },
  {
   "cell_type": "markdown",
   "metadata": {
    "colab_type": "text",
    "id": "WI14BTKVYSLr"
   },
   "source": [
    "**Extract Testing Dataset**"
   ]
  },
  {
   "cell_type": "code",
   "execution_count": 44,
   "metadata": {
    "colab": {},
    "colab_type": "code",
    "id": "WScU_sGtcAfj"
   },
   "outputs": [],
   "source": [
    "#Function to extract the testing data\n",
    "def get_testing(original_path):\n",
    "\n",
    "    # Load the test data csv file into a dataframe.\n",
    "    df = pd.read_csv(os.path.join(original_path,'test_idx.csv'))\n",
    "\n",
    "    # Creating folder to store the Numpy arrays if they don't exist.\n",
    "    if not os.path.exists(os.path.join(original_path,'test_extracted')):\n",
    "        os.makedirs(os.path.join(original_path,'test_extracted'))\n",
    "\n",
    "    # Getting the file names of audios from the dataframe.\n",
    "    audio_files = np.array(df['new_id'])\n",
    "\n",
    "    # Load each audio file, save it as a numpy array\n",
    "    for i in range(len(audio_files)):   \n",
    "        d,r = librosa.load(os.path.join(original_path,'test',str(audio_files[i]).zfill(8)+\".mp3\"),mono=True)\n",
    "        np.save(os.path.join(original_path, 'test_extracted',str(audio_files[i])+'.npy'),d)"
   ]
  },
  {
   "cell_type": "markdown",
   "metadata": {
    "colab_type": "text",
    "id": "tE8e35hgYnwy"
   },
   "source": [
    "**Extract MFCC Features**"
   ]
  },
  {
   "cell_type": "code",
   "execution_count": 45,
   "metadata": {
    "colab": {},
    "colab_type": "code",
    "id": "RCkWGUCNYpvY"
   },
   "outputs": [],
   "source": [
    "#Function to extract mfcc features which takes a csv file and the extracted folder as arguments\n",
    "def get_mfcc_features(original_path, csv_file, extracted_folder):\n",
    "\n",
    "  # Load the csv file into a dataframe.\n",
    "  df = pd.read_csv(os.path.join(original_path, csv_file ))\n",
    "\n",
    "  # Get the audio file names.\n",
    "  audio_extracted = np.array(df['new_id'])\n",
    "\n",
    "  # Create an empty list to store the features.\n",
    "  mfcc_features=list()\n",
    "\n",
    "  # Looping on each Audio sequence array.\n",
    "  for i in range(len(audio_extracted)):\n",
    "        \n",
    "    # Load the Audio sequence.\n",
    "    audio_file_data= np.load(os.path.join(original_path, extracted_folder, str(audio_extracted[i])+'.npy'))\n",
    "\n",
    "    # Calculate MFCC coefficients for the audio sequence.\n",
    "    mfcc_data = librosa.feature.mfcc(y=audio_file_data,sr=22050)\n",
    "\n",
    "    # Calculating various statistic measures on the coefficients.\n",
    "    mean_mfcc = np.mean(mfcc_data, axis=1)\n",
    "    median_mfcc= np.median(mfcc_data,axis=1)\n",
    "    std_mfcc = np.std(mfcc_data, axis=1)\n",
    "    skew_mfcc = skew(mfcc_data, axis=1)\n",
    "    kurt_mfcc = kurtosis(mfcc_data, axis=1)\n",
    "    maximum_mfcc = np.amax(mfcc_data, axis=1)\n",
    "    minimum_mfcc = np.amin(mfcc_data, axis=1)\n",
    "\n",
    "    # Concatinating all the statistic measures and adding to the feature list.\n",
    "    addList = np.concatenate((mean_mfcc,median_mfcc,std_mfcc,skew_mfcc,kurt_mfcc,maximum_mfcc,minimum_mfcc))\n",
    "    mfcc_features.append(addList) \n",
    "    \n",
    "  # Return feature list.\n",
    "  return mfcc_features"
   ]
  },
  {
   "cell_type": "markdown",
   "metadata": {
    "colab_type": "text",
    "id": "tcMhNW2yYzIE"
   },
   "source": [
    "**Extract PCA Features**"
   ]
  },
  {
   "cell_type": "code",
   "execution_count": 46,
   "metadata": {
    "colab": {},
    "colab_type": "code",
    "id": "HvGGOE5ukFMU"
   },
   "outputs": [],
   "source": [
    "#Function to extract pca features which takes a csv file and the extracted folder as arguments\n",
    "def get_all_features(original_path, csv_file, extracted_folder):\n",
    "\n",
    "  # Load the csv file into a dataframe.\n",
    "  df = pd.read_csv(os.path.join(original_path, csv_file ))\n",
    "\n",
    "  # Get the audio file names.\n",
    "  audio_extracted = np.array(df['new_id'])\n",
    "\n",
    "  # Create an empty list to store the features.\n",
    "  all_features=list()\n",
    "\n",
    "  # Looping on each Audio sequence array.\n",
    "  for i in range(len(audio_extracted)):\n",
    "\n",
    "    # Load the Audio sequence.\n",
    "    audio_file_data= np.load(os.path.join(original_path, extracted_folder, str(audio_extracted[i])+'.npy'))\n",
    "\n",
    "    # Calculate MFCC on the audio sequence.\n",
    "    mfcc_data = librosa.feature.mfcc(y=audio_file_data,sr=22050)\n",
    "\n",
    "    # Calculate Root Mean Square Error.\n",
    "    rmse= librosa.feature.rms(y=audio_file_data)\n",
    "\n",
    "    # Calculate Chroma STFTs.\n",
    "    chroma_stft = np.mean(librosa.feature.chroma_stft(y=audio_file_data, sr=22050))\n",
    "\n",
    "    # Calculate Spectral Centroid.\n",
    "    spec_cent = librosa.feature.spectral_centroid(y=audio_file_data, sr=22050)\n",
    "\n",
    "    # Calculate Spectral Bandwidth.\n",
    "    spec_bw = librosa.feature.spectral_bandwidth(y=audio_file_data, sr=22050)\n",
    "\n",
    "    # Calculate Rolloff.\n",
    "    rolloff = librosa.feature.spectral_rolloff(y=audio_file_data, sr=22050)\n",
    "\n",
    "    # Calculate Zero Crossing Rate.\n",
    "    zcr =librosa.feature.zero_crossing_rate(audio_file_data)\n",
    "\n",
    "    # Calculate and append statistic features for all the above data features.\n",
    "    addList = np.concatenate((np.mean(mfcc_data, axis=1),np.median(mfcc_data,axis=1),np.std(mfcc_data, axis=1),skew(mfcc_data, axis=1),kurtosis(mfcc_data, axis=1),np.atleast_1d(np.mean(rmse)),np.atleast_1d(np.median(rmse)),np.atleast_1d(np.std(rmse)),np.atleast_1d(skew(rmse,axis=1)),np.atleast_1d(kurtosis(rmse,axis=1)),np.atleast_1d(np.mean(chroma_stft)),np.atleast_1d(np.median(chroma_stft)),np.atleast_1d(np.std(chroma_stft)),np.atleast_1d(skew(chroma_stft)),np.atleast_1d(kurtosis(chroma_stft)),np.atleast_1d(np.mean(spec_cent)),np.atleast_1d(np.median(spec_cent)),np.atleast_1d(np.std(spec_cent)),np.atleast_1d(skew(spec_cent,axis=1)),np.atleast_1d(kurtosis(spec_cent,axis=1)),np.atleast_1d(np.mean(spec_bw)),np.atleast_1d(np.median(spec_bw)),np.atleast_1d(np.std(spec_bw)),np.atleast_1d(skew(spec_bw,axis=1)),np.atleast_1d(kurtosis(spec_bw,axis=1)),np.atleast_1d(np.mean(rolloff)),np.atleast_1d(np.median(rolloff)),np.atleast_1d(np.std(rolloff)),np.atleast_1d(skew(rolloff,axis=1)),np.atleast_1d(kurtosis(rolloff,axis=1)),np.atleast_1d(np.mean(zcr)),np.atleast_1d(np.median(zcr)),np.atleast_1d(np.std(zcr)),np.atleast_1d(skew(zcr,axis=1)),np.atleast_1d(kurtosis(zcr,axis=1)),np.amax(mfcc_data, axis=1),np.amin(mfcc_data, axis=1)))\n",
    "    all_features.append(addList) \n",
    "    \n",
    "  return all_features"
   ]
  },
  {
   "cell_type": "markdown",
   "metadata": {
    "colab_type": "text",
    "id": "W4ZSgs-HY9Ok"
   },
   "source": [
    "**Apply PCA on All Features**"
   ]
  },
  {
   "cell_type": "code",
   "execution_count": 47,
   "metadata": {
    "colab": {},
    "colab_type": "code",
    "id": "XyrbH87zg9wC"
   },
   "outputs": [],
   "source": [
    "#Function to extract the features of training and testing data\n",
    "def get_pca_features(original_path, train_csv, train_extracted,test_csv, test_extracted,no_of_components):\n",
    "\n",
    "  #no_of_components specify the required number of components\n",
    "  # Extract all the best features for the train and test audio sequences.\n",
    "  train_features=get_all_features(original_path, train_csv, train_extracted)\n",
    "  test_features =get_all_features(original_path, test_csv, test_extracted)\n",
    "\n",
    "  # Standardize the features.\n",
    "  sc = StandardScaler(with_mean=False)\n",
    "  train_features = sc.fit_transform(train_features)\n",
    "  test_features = sc.transform(test_features)\n",
    "\n",
    "  # Apply PCA with no of components satisfying the explained variance ratio.\n",
    "  pca = sklearn.decomposition.PCA()\n",
    "  pca.fit(train_features)\n",
    "  cumsum = np.cumsum(pca.explained_variance_ratio_)\n",
    "  no_of_components = np.argmax(cumsum >= 0.95) + 1\n",
    "  pca = sklearn.decomposition.PCA(n_components=no_of_components)\n",
    "\n",
    "  # Fit and Transform training and testing data.\n",
    "  train_features = pca.fit_transform(train_features)\n",
    "  test_features = pca.transform(test_features)\n",
    "    \n",
    "  return train_features,test_features"
   ]
  },
  {
   "cell_type": "markdown",
   "metadata": {
    "colab_type": "text",
    "id": "7uoIMLFYZJuC"
   },
   "source": [
    "**Extract Spectrograms**"
   ]
  },
  {
   "cell_type": "code",
   "execution_count": 63,
   "metadata": {
    "colab": {},
    "colab_type": "code",
    "id": "gAdxmMnknli1"
   },
   "outputs": [],
   "source": [
    "#Function to extract spectrograms for Neural Network\n",
    "def get_spectrograms(original_path, train_csv, train_extracted,test_csv, test_extracted):\n",
    "\n",
    "  # Read the train_csv for Training Dataset file names.\n",
    "  df = pd.read_csv(os.path.join(original_path, train_csv ))\n",
    "  audio_extracted = np.array(df['new_id'])\n",
    "  labels = np.array(df['genre'])\n",
    "\n",
    "  # Intializing empty list for storing spectrograms and labels.\n",
    "  X_train = []\n",
    "  Y_train = []\n",
    "  X_test = []  \n",
    "\n",
    "  # Looping through the Training Data Audio sequences.\n",
    "  for i in range(len(audio_extracted)):\n",
    "\n",
    "    # Load Audio Sequence, calculate the Mel spectrogram and append it to list.\n",
    "    audio_file_data = np.load(os.path.join(original_path, train_extracted, str(audio_extracted[i])+'.npy'))\n",
    "    mel_spec = librosa.power_to_db(librosa.feature.melspectrogram(y=audio_file_data[:650000],n_mels=128,hop_length=2048),ref=np.max)\n",
    "    X_train.append(mel_spec)\n",
    "    Y_train.append(labels[i])  \n",
    "\n",
    "  # Read the test_csv for Testing Dataset file names.\n",
    "  df = pd.read_csv(os.path.join(original_path, test_csv))\n",
    "  audio_extracted = np.array(df['new_id'])\n",
    "\n",
    "  # Looping through the testing data audio sequences.\n",
    "  for i in range(len(audio_extracted)):\n",
    "\n",
    "    # Load Audio Sequence, calculate the Mel spectrogram and append it to list.\n",
    "    audio_file_data = np.load(os.path.join(original_path, test_extracted, str(audio_extracted[i])+'.npy'))\n",
    "    mel_spec = librosa.power_to_db(librosa.feature.melspectrogram(y=audio_file_data[:650000],n_mels=128,hop_length=2048),ref=np.max)\n",
    "    X_test.append(mel_spec)\n",
    "  \n",
    "  # Converting the lists into numpy arrays.\n",
    "  X_train = np.array(X_train)\n",
    "  Y_train = np.array(Y_train).reshape(len(Y_train),1)\n",
    "  X_test = np.array(X_test)\n",
    "\n",
    "  # Splitting the training features into Training and Validation.\n",
    "  stratified_split = StratifiedShuffleSplit(n_splits=1, test_size=0.2, random_state=42)\n",
    "  for train_index, test_index in stratified_split.split(X_train, Y_train):\n",
    "        training_data,train_labels=X_train[train_index],Y_train[train_index]\n",
    "        val_data,val_labels=X_train[test_index],Y_train[test_index] \n",
    "  \n",
    "  # One hot encoding the Training and validation labels.\n",
    "  Y_train = to_categorical(train_labels,6)\n",
    "  Y_val = to_categorical(val_labels,6)\n",
    "\n",
    "  # Reshaping the features into the form (rows, columns, 1) for Convolutional Neural Networks.\n",
    "  X_train=[training_data[i].reshape(len(training_data[i]),len(training_data[i][0]),1) for i in range(len(training_data))]\n",
    "  X_val=[val_data[i].reshape(len(val_data[i]),len(val_data[i][0]),1) for i in range(len(val_data))]\n",
    "  X_test = [X_test[i].reshape(len(X_test[i]),len(X_test[i][0]),1) for i in range(len(X_test))]\n",
    "\n",
    "  return  X_train,Y_train,X_val,Y_val,X_test"
   ]
  },
  {
   "cell_type": "markdown",
   "metadata": {
    "colab_type": "text",
    "id": "a9BinYI7Zd8M"
   },
   "source": [
    "**Random Forest Classifier**"
   ]
  },
  {
   "cell_type": "code",
   "execution_count": 50,
   "metadata": {
    "colab": {},
    "colab_type": "code",
    "id": "43rMschNA5_U"
   },
   "outputs": [],
   "source": [
    "#Function to use Random Forest classifier\n",
    "def random_forest(X_train,Y_train,X_test):\n",
    "\n",
    "  # Intialize Random Forest classifier with number of trees as 800.\n",
    "  random_forest = RandomForestClassifier(n_estimators= 800)\n",
    "\n",
    "  # Fit Training Dataset.\n",
    "  random_forest.fit(X_train, Y_train)\n",
    "\n",
    "  # Predict and return labels.\n",
    "  return random_forest.predict(X_test)"
   ]
  },
  {
   "cell_type": "markdown",
   "metadata": {
    "colab_type": "text",
    "id": "E0pW-RGdZziT"
   },
   "source": [
    "**SVM Classifier**"
   ]
  },
  {
   "cell_type": "code",
   "execution_count": 51,
   "metadata": {
    "colab": {},
    "colab_type": "code",
    "id": "ZXogSvuA8SwZ"
   },
   "outputs": [],
   "source": [
    "#Function to use Support Vector Machines classifier\n",
    "def svm_classifier(X_train,Y_train,X_test):\n",
    "\n",
    "  # Intialize SVM classifier with One-vs-Rest decision function.\n",
    "  svm_model = svm.SVC(decision_function_shape='ovr')\n",
    "\n",
    "  # Fit the Training Dataset.\n",
    "  svm_model.fit(X_train, Y_train)\n",
    "\n",
    "  # Predict and return labels.\n",
    "  return svm_model.predict(X_test)"
   ]
  },
  {
   "cell_type": "markdown",
   "metadata": {
    "colab_type": "text",
    "id": "04U05vs2Z-XV"
   },
   "source": [
    "**2-Dimensional CNN Classifier**"
   ]
  },
  {
   "cell_type": "code",
   "execution_count": 52,
   "metadata": {
    "colab": {},
    "colab_type": "code",
    "id": "UEcq4rbr2lX5"
   },
   "outputs": [],
   "source": [
    "#Function to use CNN classifier\n",
    "def cnn_classifier(inputShape):\n",
    "\n",
    "  # Intializing the model sequential.\n",
    "  model = Sequential()\n",
    "\n",
    "  # Adding Layers.  \n",
    "  model.add(Conv2D(32, (4, 4), input_shape=inputShape))\n",
    "  model.add(MaxPooling2D((4, 4)))\n",
    "  model.add(Activation('relu'))\n",
    "  model.add(BatchNormalization())\n",
    "\n",
    "  model.add(Conv2D(64, (4, 4), padding=\"same\"))\n",
    "  model.add(MaxPooling2D((4, 4)))\n",
    "  model.add(Activation('relu'))\n",
    "  model.add(BatchNormalization())\n",
    "\n",
    "  model.add(Conv2D(64, (2, 2), padding=\"same\"))\n",
    "  model.add(MaxPooling2D((2, 2)))\n",
    "  model.add(Activation('relu'))\n",
    "  model.add(BatchNormalization())\n",
    "\n",
    "  model.add(Flatten())\n",
    "  model.add(Dense(128, activation='relu'))\n",
    "  model.add(Dropout(0.5))\n",
    "  model.add(Dense(6,activation='softmax'))\n",
    "  \n",
    "  model.compile(loss='categorical_crossentropy', optimizer='adam', metrics=['accuracy'])  \n",
    "\n",
    "  print(model.summary())\n",
    "  \n",
    "  return model"
   ]
  },
  {
   "cell_type": "code",
   "execution_count": 53,
   "metadata": {
    "colab": {},
    "colab_type": "code",
    "id": "Xhxkr8v12GvA"
   },
   "outputs": [],
   "source": [
    "#Funtion to retrieve the labels of training data\n",
    "def get_labels(original_path,csv_file):\n",
    "\n",
    "  # Load the csv file into a dataframe.\n",
    "  df = pd.read_csv(os.path.join(original_path, csv_file ))\n",
    "\n",
    "  # Return the labels.\n",
    "  labels = np.array(df['genre'])\n",
    "\n",
    "  return labels"
   ]
  },
  {
   "cell_type": "code",
   "execution_count": 54,
   "metadata": {
    "colab": {},
    "colab_type": "code",
    "id": "SDb6si5d-MAu"
   },
   "outputs": [],
   "source": [
    "#Funtion to standardize the features\n",
    "def standardize_features(X_train,X_test):\n",
    "\n",
    "  # Initialize standard scalar with zero mean\n",
    "  sc = StandardScaler(with_mean=False)\n",
    "\n",
    "  # Fit and transform the Training Dataset.\n",
    "  X_train= sc.fit_transform(X_train)\n",
    "\n",
    "  # Transform the testing set.\n",
    "  X_test = sc.transform(X_test)\n",
    "  \n",
    "  return X_train,X_test"
   ]
  },
  {
   "cell_type": "code",
   "execution_count": 62,
   "metadata": {
    "colab": {},
    "colab_type": "code",
    "id": "6c5GkrPFVsvV"
   },
   "outputs": [],
   "source": [
    "#Function to plot the confusion matrix\n",
    "def plot_confusion_matrix(y_true,y_pred,label_names,classifier):\n",
    "    \n",
    "    # Calculate the confusion matrix using the expected and predicted values.\n",
    "    confusion_mat = confusion_matrix(np.array(y_true),y_pred,label_names)\n",
    "    \n",
    "    #  Show the confusion matrix values.\n",
    "    fig = plt.figure(figsize=(5,5))\n",
    "    plt.imshow(confusion_mat, cmap=plt.cm.Blues, interpolation='nearest')\n",
    "    \n",
    "    # Set the x, y and title labels for the plot.\n",
    "    plt.xlabel(\"Expected Outputs\", fontsize=10)\n",
    "    plt.ylabel(\"Actual Outputs\", fontsize=10)\n",
    "    plt.title(\"Confusion Matrix of \"+ classifier + \" classifier\",fontsize=12)\n",
    "    \n",
    "    # Arrange the label names on the x and y axis.\n",
    "    plt.xticks(np.arange(len(label_names)), label_names, rotation='75')\n",
    "    plt.yticks(np.arange(len(label_names)), label_names)\n",
    "    plt.tick_params(axis='both', labelsize='10')\n",
    "    plt.tight_layout()\n",
    "    for (y, x), label in np.ndenumerate(confusion_mat):\n",
    "        if label != 0:\n",
    "            plt.text(x,y,label,ha='center',va='center', size='12')\n",
    "            \n",
    "    # Show the plot\n",
    "    plt.show()"
   ]
  },
  {
   "cell_type": "code",
   "execution_count": 60,
   "metadata": {
    "colab": {},
    "colab_type": "code",
    "id": "hcrW-s_ADvAJ"
   },
   "outputs": [],
   "source": [
    "#Function to perform cross validation\n",
    "def cross_validate(X_train,Y_train,data_rep):\n",
    "\n",
    " # Choose classifiers based on the Data Representation.\n",
    " if data_rep==\"mfcc\":\n",
    "    clf = random_forest\n",
    "    classifier=\"Random Forest\"\n",
    "    sc= StandardScaler()\n",
    "    X_train = sc.fit_transform(X_train)\n",
    " elif data_rep==\"pca\":\n",
    "    clf = svm_classifier\n",
    "    classifier=\"SVM\"\n",
    "\n",
    " #Create the list with actual Label names.\n",
    " label_names=[\"Rock\",\"Pop\",\"Folk\",\"Instrumental\",\"Electronic\",\"Hip-Hop\"]\n",
    "\n",
    " # Create a Stratified KFold with 5 splits.\n",
    " k_fold = StratifiedKFold(n_splits=5,shuffle=True)\n",
    "\n",
    " # Create two empty lists to keep track of accuracies for plotting and predictions for confusion matrix.\n",
    " accuracies_clf = list()\n",
    " predictions_clf = list()\n",
    " actual_predictions = list()\n",
    "\n",
    " # Split the Dataset and Loop through each fold.\n",
    " for train_index, test_index in k_fold.split(X_train,Y_train):\n",
    "\n",
    "    # Split the Dataset into Training and Validation.\n",
    "    x_train, x_test = X_train[train_index], X_train[test_index]\n",
    "    y_train, y_test = Y_train[train_index], Y_train[test_index]    \n",
    "\n",
    "    # Fit and Predict the current fold using the classifier.\n",
    "    pred = clf(x_train,y_train,x_test)\n",
    "\n",
    "    # Append the accuracies and predictions.\n",
    "    predictions_clf.append(pred)\n",
    "    actual_predictions.append(y_test)\n",
    "    accuracies_clf.append(accuracy_score(pred,y_test))\n",
    " \n",
    " # Get the corresponding label names for the predictions.\n",
    " predictions_clf = np.array(predictions_clf).flatten()\n",
    " actual_predictions = np.array(actual_predictions).flatten()\n",
    " predictions_clf= [label_names[predictions_clf[i]] for i in range(len(predictions_clf))]\n",
    " actual_predictions= [label_names[actual_predictions[i]] for i in range(len(actual_predictions))]\n",
    "\n",
    " # Plot the confusion matrix for the classifier.\n",
    " plot_confusion_matrix(actual_predictions,predictions_clf,label_names,classifier)\n",
    "\n",
    " # Plot the accuracy of the classifier for different folds\n",
    " plt.plot([1,2,3,4,5],accuracies_clf)\n",
    " plt.xticks(np.arange(1,5,1))\n",
    " plt.xlabel(\"5-Fold CV\")\n",
    " plt.ylabel(\"Accuracy\")\n",
    " plt.show() \n",
    "\n",
    " # Calculate and print the accuracy range with 99% confidence interval\n",
    " accuracy_clf= accuracy_score(predictions_clf,actual_predictions)\n",
    " radius_clf = 2.58 * np.sqrt(accuracy_clf*(1-accuracy_clf)/len(predictions_clf))\n",
    " accuracy_clf_min =  (accuracy_clf - radius_clf)\n",
    " accuracy_clf_max =  (accuracy_clf + radius_clf)\n",
    "\n",
    " print('\\n\\n Accuracy of '+ classifier +' on Validation Dataset is ' + str(accuracy_clf))\n",
    " print('\\n At 99% Confidence Interval :')\n",
    " print('\\n The Accuracy of ' + classifier + ' is likely between ' + str(accuracy_clf_min) + ' and ' + str(accuracy_clf_max))"
   ]
  },
  {
   "cell_type": "markdown",
   "metadata": {
    "colab_type": "text",
    "id": "ZyjxXLmxaRRv"
   },
   "source": [
    "**Extract Training and Testing Audio files into Numpy Arrays**"
   ]
  },
  {
   "cell_type": "code",
   "execution_count": null,
   "metadata": {
    "colab": {},
    "colab_type": "code",
    "id": "76cbJrV9fAOr"
   },
   "outputs": [],
   "source": [
    "# Set the path of the project folder which has train, test folders and train.csv, test_idx.csv\n",
    "original_path = os.path.join(\"C:\\\\project3\")\n",
    "\n",
    "# Extract train and test dataset into numpy arrays and save them\n",
    "get_training(original_path)\n",
    "get_testing(original_path)"
   ]
  },
  {
   "cell_type": "markdown",
   "metadata": {
    "colab_type": "text",
    "id": "GFvxMfY-a6GX"
   },
   "source": [
    "**SVM on PCA**"
   ]
  },
  {
   "cell_type": "code",
   "execution_count": 58,
   "metadata": {
    "colab": {
     "base_uri": "https://localhost:8080/",
     "height": 1000
    },
    "colab_type": "code",
    "id": "5pPh5zbcdI81",
    "outputId": "0c02b3f9-08b3-49b1-fa95-8581719d1367"
   },
   "outputs": [
    {
     "data": {
      "image/png": "[encoded data removed]",
      "text/plain": [
       "<Figure size 360x360 with 1 Axes>"
      ]
     },
     "metadata": {
      "needs_background": "light"
     },
     "output_type": "display_data"
    },
    {
     "data": {
      "image/png": "[encoded data removed]",
      "text/plain": [
       "<Figure size 432x288 with 1 Axes>"
      ]
     },
     "metadata": {
      "needs_background": "light"
     },
     "output_type": "display_data"
    },
    {
     "name": "stdout",
     "output_type": "stream",
     "text": [
      "\n",
      "\n",
      " Accuracy of SVM on Validation Dataset is 58.04166666666667\n",
      "\n",
      " At 99% Confidence Interval :\n",
      "\n",
      " The Accuracy of SVM is likely between 55.4427453163954 and 60.64058801693793\n"
     ]
    }
   ],
   "source": [
    "# Extract PCA features.\n",
    "X_train,X_test = get_pca_features(original_path,'train.csv','train_extracted','test_idx.csv','test_extracted',100)\n",
    "Y_train = get_labels(original_path,'train.csv')\n",
    "\n",
    "# Cross Validate PCA Features.\n",
    "cross_validate(np.array(X_train),np.array(Y_train),\"pca\")\n",
    "\n",
    "# Classify PCA Test Features using SVM classifier.\n",
    "y_test_svm = svm_classifier(X_train,Y_train,X_test)\n",
    "Y_test = pd.read_csv(os.path.join(original_path,'test_idx.csv'))\n",
    "Y_test['genre'] = y_test_svm.tolist()\n",
    "Y_test = Y_test.rename(columns={\"new_id\":\"id\"})\n",
    "Y_test.to_csv(os.path.join(original_path,'predict_svm.csv'),index=False)"
   ]
  },
  {
   "cell_type": "markdown",
   "metadata": {
    "colab_type": "text",
    "id": "hb9DD8JVbKcm"
   },
   "source": [
    "**Random Forest on MFCC**"
   ]
  },
  {
   "cell_type": "code",
   "execution_count": 61,
   "metadata": {
    "colab": {
     "base_uri": "https://localhost:8080/",
     "height": 1000
    },
    "colab_type": "code",
    "id": "9-uw37lzAmIw",
    "outputId": "af2a6e81-3db3-4a73-d0b8-f1bc4456d994"
   },
   "outputs": [
    {
     "data": {
      "image/png": "[encoded data removed]",
      "text/plain": [
       "<Figure size 360x360 with 1 Axes>"
      ]
     },
     "metadata": {
      "needs_background": "light"
     },
     "output_type": "display_data"
    },
    {
     "data": {
      "image/png": "[encoded data removed]",
      "text/plain": [
       "<Figure size 432x288 with 1 Axes>"
      ]
     },
     "metadata": {
      "needs_background": "light"
     },
     "output_type": "display_data"
    },
    {
     "name": "stdout",
     "output_type": "stream",
     "text": [
      "\n",
      "\n",
      " Accuracy of Random Forest on Validation Dataset is 56.958333333333336\n",
      "\n",
      " At 99% Confidence Interval :\n",
      "\n",
      " The Accuracy of Random Forest is likely between 54.3507556144732 and 59.565911052193464\n"
     ]
    }
   ],
   "source": [
    "# Extract MFCC features and standardize them.\n",
    "X_train = get_mfcc_features(original_path,'train.csv','train_extracted')\n",
    "Y_train = get_labels(original_path,'train.csv')\n",
    "X_test = get_mfcc_features(original_path,'test_idx.csv','test_extracted')\n",
    "X_train,X_test = standardize_features(X_train,X_test)\n",
    "\n",
    "# Cross Validate MFCC Features.\n",
    "cross_validate(np.array(X_train),np.array(Y_train).flatten(),\"mfcc\")\n",
    "\n",
    "# Classify MFCC Test Features using Random Forest Classifier.\n",
    "y_test_rf = random_forest(X_train,Y_train,X_test)\n",
    "Y_test = pd.read_csv(os.path.join(original_path,'test_idx.csv'))\n",
    "Y_test['genre'] = y_test_rf.tolist()\n",
    "Y_test = Y_test.rename(columns={\"new_id\":\"id\"})\n",
    "Y_test.to_csv(os.path.join(original_path,'predict_rf.csv'),index=False)"
   ]
  },
  {
   "cell_type": "markdown",
   "metadata": {
    "colab_type": "text",
    "id": "WC_tQ0uybYea"
   },
   "source": [
    "**2-D CNN on Spectrograms**"
   ]
  },
  {
   "cell_type": "code",
   "execution_count": 64,
   "metadata": {
    "colab": {
     "base_uri": "https://localhost:8080/",
     "height": 1000
    },
    "colab_type": "code",
    "id": "deIWNjeB3W0J",
    "outputId": "d046ed89-45c1-422c-cb4d-a19e4e7ee475",
    "scrolled": false
   },
   "outputs": [
    {
     "name": "stdout",
     "output_type": "stream",
     "text": [
      "Model: \"sequential_1\"\n",
      "_________________________________________________________________\n",
      " Layer (type)                Output Shape              Param #   \n",
      "=================================================================\n",
      " conv2d_3 (Conv2D)           (None, 125, 315, 32)      544       \n",
      "                                                                 \n",
      " max_pooling2d_3 (MaxPooling  (None, 31, 78, 32)       0         \n",
      " 2D)                                                             \n",
      "                                                                 \n",
      " activation_3 (Activation)   (None, 31, 78, 32)        0         \n",
      "                                                                 \n",
      " batch_normalization_3 (Batc  (None, 31, 78, 32)       128       \n",
      " hNormalization)                                                 \n",
      "                                                                 \n",
      " conv2d_4 (Conv2D)           (None, 31, 78, 64)        32832     \n",
      "                                                                 \n",
      " max_pooling2d_4 (MaxPooling  (None, 7, 19, 64)        0         \n",
      " 2D)                                                             \n",
      "                                                                 \n",
      " activation_4 (Activation)   (None, 7, 19, 64)         0         \n",
      "                                                                 \n",
      " batch_normalization_4 (Batc  (None, 7, 19, 64)        256       \n",
      " hNormalization)                                                 \n",
      "                                                                 \n",
      " conv2d_5 (Conv2D)           (None, 7, 19, 64)         16448     \n",
      "                                                                 \n",
      " max_pooling2d_5 (MaxPooling  (None, 3, 9, 64)         0         \n",
      " 2D)                                                             \n",
      "                                                                 \n",
      " activation_5 (Activation)   (None, 3, 9, 64)          0         \n",
      "                                                                 \n",
      " batch_normalization_5 (Batc  (None, 3, 9, 64)         256       \n",
      " hNormalization)                                                 \n",
      "                                                                 \n",
      " flatten_1 (Flatten)         (None, 1728)              0         \n",
      "                                                                 \n",
      " dense_2 (Dense)             (None, 128)               221312    \n",
      "                                                                 \n",
      " dropout_1 (Dropout)         (None, 128)               0         \n",
      "                                                                 \n",
      " dense_3 (Dense)             (None, 6)                 774       \n",
      "                                                                 \n",
      "=================================================================\n",
      "Total params: 272,550\n",
      "Trainable params: 272,230\n",
      "Non-trainable params: 320\n",
      "_________________________________________________________________\n",
      "None\n",
      "Epoch 1/20\n",
      "60/60 [==============================] - 40s 661ms/step - loss: 1.7849 - accuracy: 0.3568 - val_loss: 5.2772 - val_accuracy: 0.1833\n",
      "Epoch 2/20\n",
      "60/60 [==============================] - 41s 677ms/step - loss: 1.4646 - accuracy: 0.4302 - val_loss: 1.7355 - val_accuracy: 0.2854\n",
      "Epoch 3/20\n",
      "60/60 [==============================] - 35s 579ms/step - loss: 1.3555 - accuracy: 0.4755 - val_loss: 2.3149 - val_accuracy: 0.2812\n",
      "Epoch 4/20\n",
      "60/60 [==============================] - 34s 562ms/step - loss: 1.2819 - accuracy: 0.5099 - val_loss: 1.4139 - val_accuracy: 0.4333\n",
      "Epoch 5/20\n",
      "60/60 [==============================] - 38s 627ms/step - loss: 1.2279 - accuracy: 0.5328 - val_loss: 1.5423 - val_accuracy: 0.3875\n",
      "Epoch 6/20\n",
      "60/60 [==============================] - 35s 589ms/step - loss: 1.1629 - accuracy: 0.5521 - val_loss: 1.6042 - val_accuracy: 0.3812\n",
      "Epoch 7/20\n",
      "60/60 [==============================] - 37s 624ms/step - loss: 1.1355 - accuracy: 0.5583 - val_loss: 2.2312 - val_accuracy: 0.3896\n",
      "Epoch 8/20\n",
      "60/60 [==============================] - 38s 626ms/step - loss: 1.0344 - accuracy: 0.6177 - val_loss: 1.5225 - val_accuracy: 0.4688\n",
      "Epoch 9/20\n",
      "60/60 [==============================] - 36s 607ms/step - loss: 0.9325 - accuracy: 0.6365 - val_loss: 3.2384 - val_accuracy: 0.3063\n",
      "Epoch 10/20\n",
      "60/60 [==============================] - 38s 633ms/step - loss: 0.8641 - accuracy: 0.6687 - val_loss: 1.5661 - val_accuracy: 0.4354\n",
      "Epoch 11/20\n",
      "60/60 [==============================] - 37s 621ms/step - loss: 0.7620 - accuracy: 0.7130 - val_loss: 2.2211 - val_accuracy: 0.3542\n",
      "Epoch 12/20\n",
      "60/60 [==============================] - 33s 555ms/step - loss: 0.7056 - accuracy: 0.7443 - val_loss: 1.8408 - val_accuracy: 0.4604\n",
      "Epoch 13/20\n",
      "60/60 [==============================] - 33s 552ms/step - loss: 0.6355 - accuracy: 0.7734 - val_loss: 2.2817 - val_accuracy: 0.3688\n",
      "Epoch 14/20\n",
      "60/60 [==============================] - 35s 587ms/step - loss: 0.5565 - accuracy: 0.7948 - val_loss: 2.2123 - val_accuracy: 0.4229\n",
      "Epoch 15/20\n",
      "60/60 [==============================] - 34s 567ms/step - loss: 0.5035 - accuracy: 0.8214 - val_loss: 3.1108 - val_accuracy: 0.4146\n",
      "Epoch 16/20\n",
      "60/60 [==============================] - 34s 567ms/step - loss: 0.4244 - accuracy: 0.8396 - val_loss: 2.7330 - val_accuracy: 0.4771\n",
      "Epoch 17/20\n",
      "60/60 [==============================] - 35s 586ms/step - loss: 0.3401 - accuracy: 0.8734 - val_loss: 2.4269 - val_accuracy: 0.4563\n",
      "Epoch 18/20\n",
      "60/60 [==============================] - 33s 544ms/step - loss: 0.3108 - accuracy: 0.8906 - val_loss: 2.3447 - val_accuracy: 0.4250\n",
      "Epoch 19/20\n",
      "60/60 [==============================] - 36s 604ms/step - loss: 0.3071 - accuracy: 0.8927 - val_loss: 1.8531 - val_accuracy: 0.5583\n",
      "Epoch 20/20\n",
      "60/60 [==============================] - 34s 561ms/step - loss: 0.2641 - accuracy: 0.9068 - val_loss: 2.2602 - val_accuracy: 0.5021\n"
     ]
    },
    {
     "data": {
      "image/png": "[encoded data removed]",
      "text/plain": [
       "<Figure size 360x360 with 1 Axes>"
      ]
     },
     "metadata": {
      "needs_background": "light"
     },
     "output_type": "display_data"
    },
    {
     "name": "stdout",
     "output_type": "stream",
     "text": [
      "\n",
      "\n",
      " Accuracy of 2-D CNN on Validation Dataset is 50.208333333333336\n",
      "\n",
      "\n",
      " At 99% Confidence Interval :\n",
      "\n",
      " The Accuracy of 2-D CNN is likely between 44.320366951637595 and 56.09629971502906\n"
     ]
    }
   ],
   "source": [
    "# Get the spectrograms\n",
    "X_train,Y_train,X_val,Y_val, X_test = get_spectrograms(original_path,'train.csv','train_extracted', 'test_idx.csv','test_extracted')\n",
    "label_names=[\"Rock\",\"Pop\",\"Folk\",\"Instrumental\",\"Electronic\",\"Hip-Hop\"]\n",
    "\n",
    "# Applying 2-D Convolution Neural Network on the spectrograms.\n",
    "model = cnn_classifier(X_train[0].shape)\n",
    "model.fit(np.array(X_train), Y_train, epochs=20, batch_size=32, validation_data= (np.array(X_val), Y_val))\n",
    "\n",
    "# Predict the Test dataset using the model and save results to a CSV file.\n",
    "Y_test_nn = np.argmax(model.predict(np.array(X_test)),axis=1)\n",
    "Y_test = pd.read_csv(os.path.join(original_path,'test_idx.csv'))\n",
    "Y_test['genre'] = Y_test_nn.tolist()\n",
    "Y_test = Y_test.rename(columns={'new_id':'id'})\n",
    "Y_test.to_csv(os.path.join(original_path,'predict_cnn.csv'),index=False)\n",
    "\n",
    "# Plot Confusion matrix using validation predictions.\n",
    "Y_val_pred = np.argmax(model.predict(np.array(X_val)), axis=1)\n",
    "Y_val_true = np.argmax(Y_val, axis=1)\n",
    "Y_val_pred= [label_names[Y_val_pred[i]] for i in range(len(Y_val_pred))]\n",
    "Y_val_true= [label_names[Y_val_true[i]] for i in range(len(Y_val_true))]\n",
    "plot_confusion_matrix(Y_val_true,Y_val_pred,label_names,\"2-Dimensional CNN\")\n",
    "\n",
    "accuracy= accuracy_score(Y_val_pred,Y_val_true)\n",
    "radius = 2.58 * np.sqrt(accuracy*(1-accuracy)/len(Y_val_true))\n",
    "accuracy_min =  (accuracy - radius)\n",
    "accuracy_max =  (accuracy + radius)\n",
    "\n",
    "print('\\n\\n Accuracy of 2-D CNN on Validation Dataset is ' + str(accuracy))\n",
    "print('\\n\\n At 99% Confidence Interval :')\n",
    "print('\\n The Accuracy of 2-D CNN is likely between ' + str(accuracy_min) + ' and ' + str(accuracy_max)) \n"
   ]
  }
 ],
 "metadata": {
  "colab": {
   "collapsed_sections": [],
   "machine_shape": "hm",
   "name": "AudioCategorization.ipynb",
   "provenance": []
  },
  "kernelspec": {
   "display_name": "Python 3 (ipykernel)",
   "language": "python",
   "name": "python3"
  },
  "language_info": {
   "codemirror_mode": {
    "name": "ipython",
    "version": 3
   },
   "file_extension": ".py",
   "mimetype": "text/x-python",
   "name": "python",
   "nbconvert_exporter": "python",
   "pygments_lexer": "ipython3",
   "version": "3.9.7"
  }
 },
 "nbformat": 4,
 "nbformat_minor": 1
}
